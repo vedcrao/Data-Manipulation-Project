{
  "cells": [
    {
      "cell_type": "markdown",
      "metadata": {
        "id": "GJ4Xt1uf1LT7"
      },
      "source": [
        "# Final Project Phase 2 Summary\n",
        "This Jupyter Notebook (.ipynb) will serve as the skeleton file for your submission for Phase 2 of the Final Project. Answer all statements addressed below as specified in the instructions for the project, covering all necessary details. Please be clear and concise in your answers. Each response should be at most 3 sentences. Good luck! <br><br>\n",
        "\n",
        "Note: To edit a Markdown cell, double-click on its text."
      ]
    },
    {
      "cell_type": "markdown",
      "metadata": {
        "id": "tjB_SbWY1LUB"
      },
      "source": [
        "## Jupyter Notebook Quick Tips\n",
        "Here are some quick formatting tips to get you started with Jupyter Notebooks. This is by no means exhaustive, and there are plenty of articles to highlight other things that can be done. We recommend using HTML syntax for Markdown but there is also Markdown syntax that is more streamlined and might be preferable.\n",
        "<a href = \"https://towardsdatascience.com/markdown-cells-jupyter-notebook-d3bea8416671\">Here's an article</a> that goes into more detail. (Double-click on cell to see syntax)\n",
        "\n",
        "# Heading 1\n",
        "## Heading 2\n",
        "### Heading 3\n",
        "#### Heading 4\n",
        "<br>\n",
        "<b>BoldText</b> or <i>ItalicText</i>\n",
        "<br> <br>\n",
        "Math Formulas: $x^2 + y^2 = 1$\n",
        "<br> <br>\n",
        "Line Breaks are done using br enclosed in < >.\n",
        "<br><br>\n",
        "Hyperlinks are done with: <a> https://www.google.com </a> or\n",
        "<a href=\"http://www.google.com\">Google</a><br>"
      ]
    },
    {
      "cell_type": "markdown",
      "metadata": {
        "id": "tb9oVjpRDswQ"
      },
      "source": [
        "# Data Collection and Cleaning\n",
        "You are required to provide data collection and cleaning for the three (3) minimum datasets. Create a function for each of the following sections that reads or scrapes data from a file or website, manipulate and cleans the parsed data, and writes the cleaned data into a new file.\n",
        "\n",
        "Make sure your data cleaning and manipulation process is not too simple. Performing complex manipulation and using modules not taught in class shows effort, which will increase the chance of receiving full credit.\n"
      ]
    },
    {
      "cell_type": "markdown",
      "metadata": {
        "id": "6Dp7Pm-Suh3d"
      },
      "source": [
        "## Data Sources\n",
        "Include sources (as links) to your datasets. Add any additional data sources if needed. Clearly indicate if a data source is different from one submitted in your Phase I, as we will check that it satisfies the requirements.\n",
        "*   Downloaded Dataset Source: https://apps.who.int/nha/database/Select/Indicators/en\n",
        "*   Web Collection #1 Source: https://en.wikipedia.org/wiki/List_of_countries_by_total_health_expenditure_per_capita\n",
        "*   Web Collection #2 Source: https://echarts.apache.org/examples/data/asset/data/life-expectancy-table.json\n",
        "\n"
      ]
    },
    {
      "cell_type": "markdown",
      "metadata": {
        "id": "9mRjxZDbE1tj"
      },
      "source": [
        "## Downloaded Dataset Requirement\n",
        "\n",
        "Fill in the predefined functions with your data scraping/parsing code. You may modify/rename each function as you seem fit, but you must provide at least 3 separate functions that clean each of your required datasets.\n"
      ]
    },
    {
      "cell_type": "code",
      "execution_count": null,
      "metadata": {
        "colab": {
          "base_uri": "https://localhost:8080/"
        },
        "id": "0p5xxmqzFGrO",
        "outputId": "90fcb8ae-6192-4ccb-bdf9-c1528b0aebb9"
      },
      "outputs": [
        {
          "output_type": "stream",
          "name": "stdout",
          "text": [
            "         year  Current Health Expenditure as % of GDP  \\\n",
            "country                                                 \n",
            "Algeria  2002                                    3.73   \n",
            "Algeria  2010                                    5.12   \n",
            "Algeria  2018                                    6.16   \n",
            "Angola   2002                                    3.33   \n",
            "Angola   2010                                    2.70   \n",
            "...       ...                                     ...   \n",
            "Vanuatu  2010                                    3.53   \n",
            "Vanuatu  2018                                    3.35   \n",
            "Vietnam  2002                                    3.60   \n",
            "Vietnam  2010                                    4.70   \n",
            "Vietnam  2018                                    5.03   \n",
            "\n",
            "         Current Health Expenditure per Capita in US dollars (Millions)  \\\n",
            "country                                                                   \n",
            "Algeria                                              85.07                \n",
            "Algeria                                             229.29                \n",
            "Algeria                                             327.69                \n",
            "Angola                                               29.05                \n",
            "Angola                                              123.77                \n",
            "...                                                    ...                \n",
            "Vanuatu                                             100.14                \n",
            "Vanuatu                                             133.87                \n",
            "Vietnam                                              19.66                \n",
            "Vietnam                                             100.65                \n",
            "Vietnam                                             163.15                \n",
            "\n",
            "         Current Health Expenditure per Capita in Purchasing Power Parity (PPP)  \n",
            "country                                                                          \n",
            "Algeria                                             346.67                       \n",
            "Algeria                                             670.12                       \n",
            "Algeria                                             734.99                       \n",
            "Angola                                              126.03                       \n",
            "Angola                                              177.55                       \n",
            "...                                                    ...                       \n",
            "Vanuatu                                              97.50                       \n",
            "Vanuatu                                             107.24                       \n",
            "Vietnam                                             104.34                       \n",
            "Vietnam                                             251.40                       \n",
            "Vietnam                                             493.99                       \n",
            "\n",
            "[566 rows x 4 columns]\n"
          ]
        }
      ],
      "source": [
        "import pandas as pd\n",
        "import requests\n",
        "from pprint import pprint\n",
        "def data_parser():\n",
        "  df = pd.read_excel(\"/content/GHED_data.xlsx\")\n",
        "  df1 = df.iloc[:,0:8]\n",
        "  df1 = df1.dropna()\n",
        "  df1 = df1.set_index('country')\n",
        "  df1['year'] = df1['year'].astype(int)\n",
        "  df1 = df1[(df1['year'] == 2002) | (df1['year']== 2010) | (df1['year']== 2018)]\n",
        "  df1.loc[::2,'che_pc_usd'] *= 1.28\n",
        "  del df1['country code']\n",
        "  del df1['region (WHO)']\n",
        "  del df1['income group']\n",
        "  df1 = df1.round(2)\n",
        "  df1 = df1.rename(columns = {\"che_gdp\": 'Current Health Expenditure as % of GDP', 'che_pc_usd':'Current Health Expenditure per Capita in US dollars (Millions)','che_pc_ppp':'Current Health Expenditure per Capita in Purchasing Power Parity (PPP)'})\n",
        "  df1 = df1.rename(index = {'Viet Nam': 'Vietnam'})\n",
        "  df1.to_csv(\"cleanedGHEDdata.csv\",index= True)\n",
        "  pprint(df1)\n",
        "\n",
        "# Sources Used: https://www.statology.org/pandas-select-multiple-columns/\n",
        "# https://www.rba.gov.au/calculator/annualDecimal.html\n",
        "# https://pandas.pydata.org/docs/getting_started/intro_tutorials/03_subset_data.html\n",
        "\n",
        "\n",
        "\n",
        "\n",
        "\n",
        "############ Function Call ############\n",
        "data_parser()"
      ]
    },
    {
      "cell_type": "markdown",
      "metadata": {
        "id": "794L4vGXFdYw"
      },
      "source": [
        "## Web Collection Requirement \\#1\n"
      ]
    },
    {
      "cell_type": "code",
      "execution_count": null,
      "metadata": {
        "id": "0CBrc7PyxbBQ"
      },
      "outputs": [],
      "source": [
        "from google.colab import drive\n",
        "drive.mount('/content/drive')"
      ]
    },
    {
      "cell_type": "code",
      "execution_count": null,
      "metadata": {
        "id": "vXwpJObDFiWM",
        "colab": {
          "base_uri": "https://localhost:8080/"
        },
        "outputId": "2653fe4d-b964-4818-a562-e1e574c92303"
      },
      "outputs": [
        {
          "output_type": "stream",
          "name": "stdout",
          "text": [
            "               2002 Health Expenditure Per Capita, adjusted to 2018 US Dollar Inflation  \\\n",
            "Country                                                                                   \n",
            " Afghanistan                                                  78                          \n",
            " Albania                                                     314                          \n",
            " Algeria                                                     335                          \n",
            " Andorra                                                    2196                          \n",
            " Angola                                                      119                          \n",
            "...                                                          ...                          \n",
            " Uzbekistan                                                  175                          \n",
            " Vanuatu                                                      80                          \n",
            " Venezuela                                                   842                          \n",
            " Vietnam                                                     108                          \n",
            " Zambia                                                      125                          \n",
            "\n",
            "               2010 Health Expenditure Per Capita, adjusted to 2018 US Dollar Inflation  \\\n",
            "Country                                                                                   \n",
            " Afghanistan                                                 138                          \n",
            " Albania                                                     452                          \n",
            " Algeria                                                     648                          \n",
            " Andorra                                                    2771                          \n",
            " Angola                                                      168                          \n",
            "...                                                          ...                          \n",
            " Uzbekistan                                                  268                          \n",
            " Vanuatu                                                      97                          \n",
            " Venezuela                                                  1130                          \n",
            " Vietnam                                                     259                          \n",
            " Zambia                                                      122                          \n",
            "\n",
            "               2018 Health Expenditure Per Capita, adjusted to 2018 US Dollar Inflation  \\\n",
            "Country                                                                                   \n",
            " Afghanistan                                                 186                          \n",
            " Albania                                                     697                          \n",
            " Algeria                                                     963                          \n",
            " Andorra                                                    3607                          \n",
            " Angola                                                      165                          \n",
            "...                                                          ...                          \n",
            " Uzbekistan                                                  459                          \n",
            " Vanuatu                                                     109                          \n",
            " Venezuela                                                   384                          \n",
            " Vietnam                                                     440                          \n",
            " Zambia                                                      208                          \n",
            "\n",
            "               2002-2010 perecent change  2010-2018 perecent change  \\\n",
            "Country                                                               \n",
            " Afghanistan                       1.769                      1.348   \n",
            " Albania                           1.439                      1.542   \n",
            " Algeria                           1.934                      1.486   \n",
            " Andorra                           1.262                      1.302   \n",
            " Angola                            1.412                      0.982   \n",
            "...                                  ...                        ...   \n",
            " Uzbekistan                        1.531                      1.713   \n",
            " Vanuatu                           1.212                      1.124   \n",
            " Venezuela                         1.342                      0.340   \n",
            " Vietnam                           2.398                      1.699   \n",
            " Zambia                            0.976                      1.705   \n",
            "\n",
            "               2026 Projected Health Expenditure Per Capita, adjusted to 2018 US Dollar Inflation  \n",
            "Country                                                                                            \n",
            " Afghanistan                                              289.89                                   \n",
            " Albania                                                 1039.06                                   \n",
            " Algeria                                                 1646.94                                   \n",
            " Andorra                                                 4623.34                                   \n",
            " Angola                                                   197.50                                   \n",
            "...                                                          ...                                   \n",
            " Uzbekistan                                               744.52                                   \n",
            " Vanuatu                                                  127.32                                   \n",
            " Venezuela                                                322.92                                   \n",
            " Vietnam                                                  901.34                                   \n",
            " Zambia                                                   278.82                                   \n",
            "\n",
            "[184 rows x 6 columns]\n"
          ]
        }
      ],
      "source": [
        "from bs4 import BeautifulSoup\n",
        "import requests\n",
        "import pandas as pd\n",
        "from pprint import pprint\n",
        "def web_parser1():\n",
        "  listy = []\n",
        "  r = requests.get('https://en.wikipedia.org/wiki/List_of_countries_by_total_health_expenditure_per_capita')\n",
        "  soup = BeautifulSoup(r.text, \"html.parser\")\n",
        "  taglist = soup.find_all(\"tr\")[38:-13]\n",
        "  for row in taglist:\n",
        "    info = row.find_all('td')\n",
        "    infolist = []\n",
        "    for info2 in info:\n",
        "      infolist.append(info2.text)\n",
        "    listy.append(infolist)\n",
        "  df = pd.DataFrame(listy)\n",
        "  df = df.dropna()\n",
        "\n",
        "  df.columns = ['Country', '2002', '2010', '2018']\n",
        "  df['Country'] = df['Country'].str.strip('*\\n')\n",
        "  df['2002'] = df['2002'].str.strip('*\\n')\n",
        "  df['2002'] = df['2002'].str.replace(',', '')\n",
        "  df['2010'] = df['2010'].str.strip('*\\n')\n",
        "  df['2010'] = df['2010'].str.replace(',', '')\n",
        "  df['2018'] = df['2018'].str.strip('*\\n')\n",
        "  df['2018'] = df['2018'].str.replace(',', '')\n",
        "  df = df.mask(df == '')\n",
        "  df = df.dropna()\n",
        "  df.iloc[95, :] = ['Liberia',9, 45, 61]\n",
        "  df['2002'] = df['2002'].astype('int')\n",
        "  df['2010'] = df['2010'].astype('int')\n",
        "  df['2018'] = df['2018'].astype('int')\n",
        "  df['2002-2010 perecent change'] = round((df['2010']/df['2002']), 3)\n",
        "  df['2010-2018 perecent change'] = round((df['2018']/df['2010']), 3)\n",
        "  df['2026 Projected Health Expenditure Per Capita, adjusted to 2018 US Dollar Inflation'] = round(((((df['2010']/df['2002']) + (df['2018']/df['2010'])) / 2) * df['2018']), 2)\n",
        "  df = df.rename(columns = {'2002': '2002 Health Expenditure Per Capita, adjusted to 2018 US Dollar Inflation', '2010' : '2010 Health Expenditure Per Capita, adjusted to 2018 US Dollar Inflation', '2018':'2018 Health Expenditure Per Capita, adjusted to 2018 US Dollar Inflation'})\n",
        "  df = df.set_index('Country')\n",
        "  df.to_csv(\"cleanedwebscrapeddata.csv\",index=True)\n",
        "\n",
        "\n",
        "  pprint(df)\n",
        "\n",
        "\n",
        "# Sources Used: https://www.geeksforgeeks.org/pprint-data-pretty-printer-python/\n",
        "# https://stackoverflow.com/questions/29461185/filtering-pandas-dataframe-using-or-statement\n",
        "\n",
        "\n",
        "\n",
        "\n",
        "\n",
        "\n",
        "############ Function Call ############\n",
        "web_parser1()"
      ]
    },
    {
      "cell_type": "markdown",
      "metadata": {
        "id": "eDD6sMsCXRxc"
      },
      "source": [
        "## Web Collection Requirement \\#2"
      ]
    },
    {
      "cell_type": "code",
      "execution_count": null,
      "metadata": {
        "colab": {
          "base_uri": "https://localhost:8080/"
        },
        "id": "HAkUOqMgXQJG",
        "outputId": "950804c6-9263-4148-ddf8-3b7167c54146"
      },
      "outputs": [
        {
          "output_type": "stream",
          "name": "stdout",
          "text": [
            "0              Life Expectancy  Year\n",
            "Country                             \n",
            "Australia                34.05  1800\n",
            "Canada                      39  1800\n",
            "China                       32  1800\n",
            "Cuba                      32.2  1800\n",
            "Finland              36.573126  1800\n",
            "...                        ...   ...\n",
            "Poland                    77.3  2015\n",
            "Russia                   73.13  2015\n",
            "Turkey                    76.5  2015\n",
            "United Kingdom            81.4  2015\n",
            "United States             79.1  2015\n",
            "\n",
            "[1539 rows x 2 columns]\n"
          ]
        }
      ],
      "source": [
        "import requests\n",
        "import pandas as pd\n",
        "from pprint import pprint\n",
        "def web_parser2():\n",
        "  df = pd.read_json(\"https://echarts.apache.org/examples/data/asset/data/life-expectancy-table.json\")\n",
        "  df.columns =df.iloc[0]\n",
        "  df = df[1:]\n",
        "  del df['Population']\n",
        "  del df['Income']\n",
        "  df = df.set_index('Country')\n",
        "  yearle = df.groupby('Year')['Life Expectancy'].mean() #returns pd dataframe that shows increase in average life expecatncy around the world thru the years\n",
        "  df.to_csv(\"cleanedlifeexpectancy.csv\",index = True)\n",
        "  pprint(df)\n",
        "\n",
        "\n",
        "  # Sources Used: https://www.askpython.com/python-modules/pandas/update-the-value-of-a-row-dataframe\n",
        "#  https://towardsdatascience.com/markdown-cells-jupyter-notebook-d3bea8416671\n",
        "\n",
        "\n",
        "\n",
        "\n",
        "\n",
        "\n",
        "\n",
        "\n",
        "############ Function Call ############\n",
        "web_parser2()"
      ]
    },
    {
      "cell_type": "markdown",
      "metadata": {
        "id": "ezovwa1tp0we"
      },
      "source": [
        "## Additional Dataset Parsing/Cleaning Functions\n",
        "\n",
        "Write any supplemental (optional) functions here."
      ]
    },
    {
      "cell_type": "code",
      "execution_count": null,
      "metadata": {
        "id": "f4-s72RNuKLR"
      },
      "outputs": [],
      "source": [
        "def extra_source1():\n",
        "    pass\n",
        "\n",
        "\n",
        "############ Function Call ############\n",
        "extra_source1()"
      ]
    },
    {
      "cell_type": "code",
      "execution_count": null,
      "metadata": {
        "id": "yB3qXt_XuY7b"
      },
      "outputs": [],
      "source": [
        "# Define further extra source functions as necessary"
      ]
    },
    {
      "cell_type": "markdown",
      "metadata": {
        "id": "uttEYrm9US5s"
      },
      "source": [
        "#Inconsistencies\n",
        "For each inconsistency (NaN, null, duplicate values, empty strings, etc.) you discover in your datasets, write at least 2 sentences stating the significance, how you identified it, and how you handled it.\n",
        "\n",
        "1. In the web scraping data, there were a few blank cells in either of the 2002, 2010, 2018 health expenditure columns. This prevented us from creating columns such as percent change columns and predicting future health expenditure of countries. To take care of these blank cells, we decided to fill the blanks with NaN values and then remove the rows with these values using df.dropna(). We could not replace these NaN values with 0 because it would mess with the numbers of the columns we wish to create. This allowed us to create the percent change between the different years and also predict the 2026 health expenditure of different countries.\n",
        "\n",
        "\n",
        "2. Another inconsistency faced in the web scraped dataset was that the country Liberia had numbers that were incorrect (numbers were abnormally inflated). We discovered this while going through the table to check for any mistakes. To change this, We got numbers from https://www.macrotrends.net/countries/LBR/liberia/healthcare-spending, and we changed the values for Liberia in the code to reflect the new numbers we found. Now, there are more accurate numbers that the code can use while creating the new columns.\n",
        "\n",
        "\n",
        "3. In the large CSV downloaded dataset, there were many columns with unnecessary information and rows that contained blank cells, so we decided to replace all these blank cells with 0 and disregard the cells with 0 when analyzing the data during phase 3.\n",
        "\n",
        "\n",
        "4. In the downloaded CSV dataset, the rows for the country Vietnam were different from the other data sets. Originally, the dataset displayed the country name as “Viet Nam'' which is different from how the other datasets represented the country so these rows had to be changed to “Vietnam.” Also this dataset had a bunch of code names like “che_gdh” which represented the “Current Health Expenditure for Countries GDP per capita.” We had to change these code names into labels that would make sense to the reader and to match the names of the columns of the other datasets.\n",
        "\n",
        "5. Our web scraping dataset had columns where the numbers were adjusted to 2018 inflation, so we decided to adjust the values in the CSV downloaded dataset to 2018 inflation as well to keep the numbers consistent across all datasets.\n",
        "\n"
      ]
    }
  ],
  "metadata": {
    "colab": {
      "provenance": []
    },
    "kernelspec": {
      "display_name": "Python 3 (ipykernel)",
      "language": "python",
      "name": "python3"
    },
    "language_info": {
      "codemirror_mode": {
        "name": "ipython",
        "version": 3
      },
      "file_extension": ".py",
      "mimetype": "text/x-python",
      "name": "python",
      "nbconvert_exporter": "python",
      "pygments_lexer": "ipython3",
      "version": "3.9.12"
    }
  },
  "nbformat": 4,
  "nbformat_minor": 0
}